{
 "cells": [
  {
   "cell_type": "code",
   "execution_count": 1,
   "metadata": {},
   "outputs": [
    {
     "name": "stderr",
     "output_type": "stream",
     "text": [
      "Using TensorFlow backend.\n",
      "/usr/local/lib/python3.7/dist-packages/tensorflow/python/framework/dtypes.py:516: FutureWarning: Passing (type, 1) or '1type' as a synonym of type is deprecated; in a future version of numpy, it will be understood as (type, (1,)) / '(1,)type'.\n",
      "  _np_qint8 = np.dtype([(\"qint8\", np.int8, 1)])\n",
      "/usr/local/lib/python3.7/dist-packages/tensorflow/python/framework/dtypes.py:517: FutureWarning: Passing (type, 1) or '1type' as a synonym of type is deprecated; in a future version of numpy, it will be understood as (type, (1,)) / '(1,)type'.\n",
      "  _np_quint8 = np.dtype([(\"quint8\", np.uint8, 1)])\n",
      "/usr/local/lib/python3.7/dist-packages/tensorflow/python/framework/dtypes.py:518: FutureWarning: Passing (type, 1) or '1type' as a synonym of type is deprecated; in a future version of numpy, it will be understood as (type, (1,)) / '(1,)type'.\n",
      "  _np_qint16 = np.dtype([(\"qint16\", np.int16, 1)])\n",
      "/usr/local/lib/python3.7/dist-packages/tensorflow/python/framework/dtypes.py:519: FutureWarning: Passing (type, 1) or '1type' as a synonym of type is deprecated; in a future version of numpy, it will be understood as (type, (1,)) / '(1,)type'.\n",
      "  _np_quint16 = np.dtype([(\"quint16\", np.uint16, 1)])\n",
      "/usr/local/lib/python3.7/dist-packages/tensorflow/python/framework/dtypes.py:520: FutureWarning: Passing (type, 1) or '1type' as a synonym of type is deprecated; in a future version of numpy, it will be understood as (type, (1,)) / '(1,)type'.\n",
      "  _np_qint32 = np.dtype([(\"qint32\", np.int32, 1)])\n",
      "/usr/local/lib/python3.7/dist-packages/tensorflow/python/framework/dtypes.py:525: FutureWarning: Passing (type, 1) or '1type' as a synonym of type is deprecated; in a future version of numpy, it will be understood as (type, (1,)) / '(1,)type'.\n",
      "  np_resource = np.dtype([(\"resource\", np.ubyte, 1)])\n",
      "/usr/local/lib/python3.7/dist-packages/tensorboard/compat/tensorflow_stub/dtypes.py:541: FutureWarning: Passing (type, 1) or '1type' as a synonym of type is deprecated; in a future version of numpy, it will be understood as (type, (1,)) / '(1,)type'.\n",
      "  _np_qint8 = np.dtype([(\"qint8\", np.int8, 1)])\n",
      "/usr/local/lib/python3.7/dist-packages/tensorboard/compat/tensorflow_stub/dtypes.py:542: FutureWarning: Passing (type, 1) or '1type' as a synonym of type is deprecated; in a future version of numpy, it will be understood as (type, (1,)) / '(1,)type'.\n",
      "  _np_quint8 = np.dtype([(\"quint8\", np.uint8, 1)])\n",
      "/usr/local/lib/python3.7/dist-packages/tensorboard/compat/tensorflow_stub/dtypes.py:543: FutureWarning: Passing (type, 1) or '1type' as a synonym of type is deprecated; in a future version of numpy, it will be understood as (type, (1,)) / '(1,)type'.\n",
      "  _np_qint16 = np.dtype([(\"qint16\", np.int16, 1)])\n",
      "/usr/local/lib/python3.7/dist-packages/tensorboard/compat/tensorflow_stub/dtypes.py:544: FutureWarning: Passing (type, 1) or '1type' as a synonym of type is deprecated; in a future version of numpy, it will be understood as (type, (1,)) / '(1,)type'.\n",
      "  _np_quint16 = np.dtype([(\"quint16\", np.uint16, 1)])\n",
      "/usr/local/lib/python3.7/dist-packages/tensorboard/compat/tensorflow_stub/dtypes.py:545: FutureWarning: Passing (type, 1) or '1type' as a synonym of type is deprecated; in a future version of numpy, it will be understood as (type, (1,)) / '(1,)type'.\n",
      "  _np_qint32 = np.dtype([(\"qint32\", np.int32, 1)])\n",
      "/usr/local/lib/python3.7/dist-packages/tensorboard/compat/tensorflow_stub/dtypes.py:550: FutureWarning: Passing (type, 1) or '1type' as a synonym of type is deprecated; in a future version of numpy, it will be understood as (type, (1,)) / '(1,)type'.\n",
      "  np_resource = np.dtype([(\"resource\", np.ubyte, 1)])\n"
     ]
    }
   ],
   "source": [
    "import pandas as pd\n",
    "import pickle\n",
    "from keras.wrappers.scikit_learn import KerasClassifier\n",
    "from sklearn.model_selection import GridSearchCV\n",
    "from time import time\n",
    "import numpy as np\n",
    "from keras.layers import * \n",
    "from keras.models import *\n",
    "from keras.callbacks import EarlyStopping\n",
    "from sklearn.metrics import accuracy_score"
   ]
  },
  {
   "cell_type": "code",
   "execution_count": 2,
   "metadata": {},
   "outputs": [],
   "source": [
    "\n",
    "data_train = pd.read_csv('trainset.data', sep=\",\")\n",
    "data_test = pd.read_csv('testset.dat', sep=\",\")\n",
    "\n"
   ]
  },
  {
   "cell_type": "code",
   "execution_count": 3,
   "metadata": {},
   "outputs": [],
   "source": [
    "\n",
    "# print(data_train['Sequence'])\n",
    "# print(data_train.loc[1]['Label'])\n",
    "# print(data_test.columns)\n",
    "# print(data_test[' Sequence'])\n",
    "data_test=data_test.rename(columns={' Sequence': 'Sequence'})\n",
    "# data_test['Sequence']=data_test[]\n",
    "# print(data_test['Sequence'])\n",
    "# print(data_test['ID'])\n",
    "# print(data_test_lables)"
   ]
  },
  {
   "cell_type": "code",
   "execution_count": 4,
   "metadata": {},
   "outputs": [
    {
     "name": "stdout",
     "output_type": "stream",
     "text": [
      "8000\n",
      "400\n"
     ]
    }
   ],
   "source": [
    "list_tripeptides=[]\n",
    "list_aminoAcids=['A','R','N','D','C','E','Q','G','H','I','L','K','M','F','P','S','T','W','Y','V']\n",
    "list_dipeptides=[]\n",
    "for x in list_aminoAcids:\n",
    "    for y in list_aminoAcids:\n",
    "        list_dipeptides.append(x+y)\n",
    "        for z in list_aminoAcids:\n",
    "#             print(x+y+z)\n",
    "            list_tripeptides.append(x+y+z)\n",
    "print(len(list_tripeptides))\n",
    "print(len(list_dipeptides))\n",
    "list_dipeptides+=list_aminoAcids\n",
    "list_tripeptides+=list_aminoAcids"
   ]
  },
  {
   "cell_type": "code",
   "execution_count": 6,
   "metadata": {},
   "outputs": [],
   "source": [
    "def get_features_peptide(df,list_peptides,k):\n",
    "#     print(df.size)\n",
    "    l=df.size\n",
    "    df_f=pd.DataFrame(columns=list_peptides)\n",
    "#     df_f.loc[0]=1\n",
    "#     df_f.loc[0]['AAC']=3\n",
    "#     df_f.loc[0]=df_f.loc[0]/3\n",
    "    \n",
    "#     print(df_f)\n",
    "#     return\n",
    "    for index in range(l) :\n",
    "#         print(index,end=\" \")\n",
    "        df_f.loc[index]=0\n",
    "        seq=df.loc[index]\n",
    "        for i in range(len(seq)-(k-1)):\n",
    "            k_pep=seq[i:i+k]\n",
    "            \n",
    "#             print(tri_pep)\n",
    "\n",
    "            df_f.loc[index][k_pep]=df_f.loc[index][k_pep]+1\n",
    "#     this is  for including amino acids\n",
    "        for i in range(len(seq)):\n",
    "            k_pep=seq[i]\n",
    "            \n",
    "#             print(tri_pep)\n",
    "\n",
    "            df_f.loc[index][k_pep]=df_f.loc[index][k_pep]+1\n",
    "#         print(seq)\n",
    "        df_f.loc[index]=df_f.loc[index]/(len(seq)-(k-1))\n",
    "#         df_f.loc[index]=df_f.loc[index][-20:]/(len(seq))\n",
    "#         print(df_f.loc[index][-20:])\n",
    "        \n",
    "            \n",
    "    return df_f\n",
    "#         print(df.loc[index])\n",
    "        \n",
    "    \n",
    "        "
   ]
  },
  {
   "cell_type": "code",
   "execution_count": 7,
   "metadata": {
    "scrolled": false
   },
   "outputs": [
    {
     "ename": "KeyboardInterrupt",
     "evalue": "",
     "output_type": "error",
     "traceback": [
      "\u001b[0;31m---------------------------------------------------------------------------\u001b[0m",
      "\u001b[0;31mKeyboardInterrupt\u001b[0m                         Traceback (most recent call last)",
      "\u001b[0;32m<ipython-input-7-335146a97b9c>\u001b[0m in \u001b[0;36m<module>\u001b[0;34m\u001b[0m\n\u001b[0;32m----> 1\u001b[0;31m \u001b[0mdf_test_tripeptide\u001b[0m\u001b[0;34m=\u001b[0m\u001b[0mget_features_peptide\u001b[0m\u001b[0;34m(\u001b[0m\u001b[0mdata_test\u001b[0m\u001b[0;34m[\u001b[0m\u001b[0;34m'Sequence'\u001b[0m\u001b[0;34m]\u001b[0m\u001b[0;34m,\u001b[0m\u001b[0mlist_tripeptides\u001b[0m\u001b[0;34m,\u001b[0m\u001b[0;36m3\u001b[0m\u001b[0;34m)\u001b[0m\u001b[0;34m\u001b[0m\u001b[0;34m\u001b[0m\u001b[0m\n\u001b[0m\u001b[1;32m      2\u001b[0m \u001b[0mdf_test_tripeptide\u001b[0m\u001b[0;34m.\u001b[0m\u001b[0mto_pickle\u001b[0m\u001b[0;34m(\u001b[0m\u001b[0;34m'df_test_tripeptide.pickle'\u001b[0m\u001b[0;34m)\u001b[0m\u001b[0;34m\u001b[0m\u001b[0;34m\u001b[0m\u001b[0m\n\u001b[1;32m      3\u001b[0m \u001b[0mdf_train_tripeptide\u001b[0m\u001b[0;34m=\u001b[0m\u001b[0mget_features_peptide\u001b[0m\u001b[0;34m(\u001b[0m\u001b[0mdata_train\u001b[0m\u001b[0;34m[\u001b[0m\u001b[0;34m'Sequence'\u001b[0m\u001b[0;34m]\u001b[0m\u001b[0;34m,\u001b[0m\u001b[0mlist_tripeptides\u001b[0m\u001b[0;34m,\u001b[0m\u001b[0;36m3\u001b[0m\u001b[0;34m)\u001b[0m\u001b[0;34m\u001b[0m\u001b[0;34m\u001b[0m\u001b[0m\n\u001b[1;32m      4\u001b[0m \u001b[0mdf_train_tripeptide\u001b[0m\u001b[0;34m.\u001b[0m\u001b[0mto_pickle\u001b[0m\u001b[0;34m(\u001b[0m\u001b[0;34m'df_train_tripeptide.pickle'\u001b[0m\u001b[0;34m)\u001b[0m\u001b[0;34m\u001b[0m\u001b[0;34m\u001b[0m\u001b[0m\n\u001b[1;32m      5\u001b[0m \u001b[0;34m\u001b[0m\u001b[0m\n",
      "\u001b[0;32m<ipython-input-6-dc05b8228480>\u001b[0m in \u001b[0;36mget_features_peptide\u001b[0;34m(df, list_peptides, k)\u001b[0m\n\u001b[1;32m     11\u001b[0m     \u001b[0;32mfor\u001b[0m \u001b[0mindex\u001b[0m \u001b[0;32min\u001b[0m \u001b[0mrange\u001b[0m\u001b[0;34m(\u001b[0m\u001b[0ml\u001b[0m\u001b[0;34m)\u001b[0m \u001b[0;34m:\u001b[0m\u001b[0;34m\u001b[0m\u001b[0;34m\u001b[0m\u001b[0m\n\u001b[1;32m     12\u001b[0m \u001b[0;31m#         print(index,end=\" \")\u001b[0m\u001b[0;34m\u001b[0m\u001b[0;34m\u001b[0m\u001b[0;34m\u001b[0m\u001b[0m\n\u001b[0;32m---> 13\u001b[0;31m         \u001b[0mdf_f\u001b[0m\u001b[0;34m.\u001b[0m\u001b[0mloc\u001b[0m\u001b[0;34m[\u001b[0m\u001b[0mindex\u001b[0m\u001b[0;34m]\u001b[0m\u001b[0;34m=\u001b[0m\u001b[0;36m0\u001b[0m\u001b[0;34m\u001b[0m\u001b[0;34m\u001b[0m\u001b[0m\n\u001b[0m\u001b[1;32m     14\u001b[0m         \u001b[0mseq\u001b[0m\u001b[0;34m=\u001b[0m\u001b[0mdf\u001b[0m\u001b[0;34m.\u001b[0m\u001b[0mloc\u001b[0m\u001b[0;34m[\u001b[0m\u001b[0mindex\u001b[0m\u001b[0;34m]\u001b[0m\u001b[0;34m\u001b[0m\u001b[0;34m\u001b[0m\u001b[0m\n\u001b[1;32m     15\u001b[0m         \u001b[0;32mfor\u001b[0m \u001b[0mi\u001b[0m \u001b[0;32min\u001b[0m \u001b[0mrange\u001b[0m\u001b[0;34m(\u001b[0m\u001b[0mlen\u001b[0m\u001b[0;34m(\u001b[0m\u001b[0mseq\u001b[0m\u001b[0;34m)\u001b[0m\u001b[0;34m-\u001b[0m\u001b[0;34m(\u001b[0m\u001b[0mk\u001b[0m\u001b[0;34m-\u001b[0m\u001b[0;36m1\u001b[0m\u001b[0;34m)\u001b[0m\u001b[0;34m)\u001b[0m\u001b[0;34m:\u001b[0m\u001b[0;34m\u001b[0m\u001b[0;34m\u001b[0m\u001b[0m\n",
      "\u001b[0;32m/usr/local/lib/python3.7/dist-packages/pandas/core/indexing.py\u001b[0m in \u001b[0;36m__setitem__\u001b[0;34m(self, key, value)\u001b[0m\n\u001b[1;32m    203\u001b[0m             \u001b[0mkey\u001b[0m \u001b[0;34m=\u001b[0m \u001b[0mcom\u001b[0m\u001b[0;34m.\u001b[0m\u001b[0mapply_if_callable\u001b[0m\u001b[0;34m(\u001b[0m\u001b[0mkey\u001b[0m\u001b[0;34m,\u001b[0m \u001b[0mself\u001b[0m\u001b[0;34m.\u001b[0m\u001b[0mobj\u001b[0m\u001b[0;34m)\u001b[0m\u001b[0;34m\u001b[0m\u001b[0;34m\u001b[0m\u001b[0m\n\u001b[1;32m    204\u001b[0m         \u001b[0mindexer\u001b[0m \u001b[0;34m=\u001b[0m \u001b[0mself\u001b[0m\u001b[0;34m.\u001b[0m\u001b[0m_get_setitem_indexer\u001b[0m\u001b[0;34m(\u001b[0m\u001b[0mkey\u001b[0m\u001b[0;34m)\u001b[0m\u001b[0;34m\u001b[0m\u001b[0;34m\u001b[0m\u001b[0m\n\u001b[0;32m--> 205\u001b[0;31m         \u001b[0mself\u001b[0m\u001b[0;34m.\u001b[0m\u001b[0m_setitem_with_indexer\u001b[0m\u001b[0;34m(\u001b[0m\u001b[0mindexer\u001b[0m\u001b[0;34m,\u001b[0m \u001b[0mvalue\u001b[0m\u001b[0;34m)\u001b[0m\u001b[0;34m\u001b[0m\u001b[0;34m\u001b[0m\u001b[0m\n\u001b[0m\u001b[1;32m    206\u001b[0m \u001b[0;34m\u001b[0m\u001b[0m\n\u001b[1;32m    207\u001b[0m     \u001b[0;32mdef\u001b[0m \u001b[0m_validate_key\u001b[0m\u001b[0;34m(\u001b[0m\u001b[0mself\u001b[0m\u001b[0;34m,\u001b[0m \u001b[0mkey\u001b[0m\u001b[0;34m,\u001b[0m \u001b[0maxis\u001b[0m\u001b[0;34m:\u001b[0m \u001b[0mint\u001b[0m\u001b[0;34m)\u001b[0m\u001b[0;34m:\u001b[0m\u001b[0;34m\u001b[0m\u001b[0;34m\u001b[0m\u001b[0m\n",
      "\u001b[0;31mKeyboardInterrupt\u001b[0m: "
     ]
    }
   ],
   "source": [
    "\n",
    "df_test_tripeptide=get_features_peptide(data_test['Sequence'],list_tripeptides,3)\n",
    "df_test_tripeptide.to_pickle('df_test_tripeptide.pickle')\n",
    "df_train_tripeptide=get_features_peptide(data_train['Sequence'],list_tripeptides,3)\n",
    "df_train_tripeptide.to_pickle('df_train_tripeptide.pickle')\n",
    "\n",
    "df_train_dipeptide=get_features_peptide(data_train['Sequence'],list_dipeptides,2)\n",
    "df_train_dipeptide.to_pickle('df_train_dipeptide.pickle')\n",
    "df_test_dipeptide=get_features_peptide(data_test['Sequence'],list_dipeptides,2)\n",
    "df_test_dipeptide.to_pickle('df_test_dipeptide.pickle')"
   ]
  },
  {
   "cell_type": "code",
   "execution_count": 8,
   "metadata": {},
   "outputs": [
    {
     "name": "stdout",
     "output_type": "stream",
     "text": [
      "\n"
     ]
    }
   ],
   "source": [
    "print()\n",
    "# df_test_tripeptide=pd.read_pickle('df_test_tripeptide.pickle')\n",
    "# df_train_tripeptide=pd.read_pickle('df_train_tripeptide.pickle')\n",
    "df_train_dipeptide=pd.read_pickle('df_train_dipeptide.pickle')\n",
    "df_test_dipeptide=pd.read_pickle('df_test_dipeptide.pickle')\n",
    "# print(df_train_tripeptide.shape,df_test_tripeptide.shape)\n",
    "# print(df_train_dipeptide.shape,df_test_dipeptide.shape)\n",
    "# print(df_train_dipeptide)\n",
    "# for i in range(df_test_tripeptide.size):\n",
    "#     if(df_test_tripeptide.min==df_test_tripeptide.loc[i]  df_test_tripeptide.loc[i]==0):\n",
    "#     print(i)\n",
    "#     print(df_test_tripeptide.loc[i].sum())\n",
    "\n"
   ]
  },
  {
   "cell_type": "code",
   "execution_count": 9,
   "metadata": {},
   "outputs": [],
   "source": [
    "def removezerovalcolumn(df1,df):\n",
    "    list_zerocol=[]\n",
    "    \n",
    "    for col in df.columns:\n",
    "#         print(col)\n",
    "        if df[col].sum()==0:\n",
    "            list_zerocol.append(col)\n",
    "#             print(col)\n",
    "\n",
    "    df.drop(list_zerocol,inplace=True,axis=1)\n",
    "    df1.drop(list_zerocol,inplace=True,axis=1)\n",
    "    return df1,df"
   ]
  },
  {
   "cell_type": "code",
   "execution_count": 10,
   "metadata": {},
   "outputs": [],
   "source": [
    "# df_train_tripeptide,df_test_tripeptide=removezerovalcolumn(df_train_tripeptide,df_test_tripeptide)\n",
    "# df_train_dipeptide,df_test_dipeptide=removezerovalcolumn(df_train_dipeptide,df_test_dipeptide)\n",
    "# df_test_tripeptide=removezerovalcolumn(df_test_tripeptide)\n",
    "# df_train_tripeptide=removezerovalcolumn(df_train_tripeptide)\n",
    "# # df_test_dipeptide=removezerovalcolumn(df_test_dipeptide)\n",
    "# # df_train_dipeptide=removezerovalcolumn(df_train_dipeptide)\n",
    "# print(df_train_tripeptide.shape,df_test_tripeptide.shape)\n",
    "# print(df_train_dipeptide.shape,df_test_dipeptide.shape)"
   ]
  },
  {
   "cell_type": "code",
   "execution_count": 11,
   "metadata": {},
   "outputs": [],
   "source": [
    "# def normalization_df(df):\n",
    "#     normalized_df=(df-df.mean())/df.std()\n",
    "# #     normalized_df(df-df.min())/(df.max()-df.min())\n",
    "\n",
    "#     return normalized_df"
   ]
  },
  {
   "cell_type": "code",
   "execution_count": 12,
   "metadata": {},
   "outputs": [],
   "source": [
    "# normalized_df_test_tripeptide=normalization_df(df_test_tripeptide)\n",
    "# print(normalized_df_test_tripeptide)\n"
   ]
  },
  {
   "cell_type": "code",
   "execution_count": 13,
   "metadata": {},
   "outputs": [],
   "source": [
    "# X_train=df_train_tripeptide\n",
    "# X_test=df_test_tripeptide\n",
    "X_train=df_train_dipeptide\n",
    "X_test=df_test_dipeptide\n",
    "Y_train=data_train['Label']\n",
    "\n",
    "\n",
    "\n",
    "# print(Y_test)\n",
    "\n",
    "# from keras.utils import to_categorical\n",
    "# Y_train = to_categorical(Y_train)\n",
    "# print(Y_train)\n",
    "# from sklearn.preprocessing import OneHotEncoder\n",
    "# onehot_encoder = OneHotEncoder(sparse=False)\n",
    "# integer_encoded = Y_train.reshape(len(integer_encoded), 1)\n",
    "# onehot_encoded = onehot_encoder.fit_transform(integer_encoded)\n",
    "# print(onehot_encoded)\n",
    "# print(Y_train)\n",
    "Y_train = pd.get_dummies(Y_train, prefix = 'Label')\n",
    "# Y_train=Y_train['Label_-1']|\n",
    "# print(Y_train)\n",
    "\n",
    "\n"
   ]
  },
  {
   "cell_type": "code",
   "execution_count": 14,
   "metadata": {},
   "outputs": [],
   "source": [
    "def create_model(optimizer='adam', init='glorot_uniform'):\n",
    "    model = Sequential()\n",
    "    model.add(Dense(2048, input_shape=(420,)))\n",
    "    model.add(Activation('relu')) \n",
    "#     model.add(Dropout(0.2)) \n",
    "#     model.add(Dropout(0.2))\n",
    "    model.add(Dense(2048,init=init))\n",
    "    model.add(Activation('relu'))\n",
    "#     model.add(Dropout(0.2))\n",
    "#     model.add(Dense(8192,init=init))\n",
    "#     model.add(Activation('relu'))\n",
    "#     model.add(Dropout(0.2))\n",
    "#     model.add(Dense(1024,init=init))\n",
    "#     model.add(Activation('relu'))\n",
    "#     model.add(Dropout(0.2))\n",
    "    model.add(Dense(2,init=init))\n",
    "    model.add(Activation('softmax')) # This special \"softmax\" a\n",
    "    model.compile(loss='binary_crossentropy', optimizer=optimizer, metrics=['accuracy']) \n",
    "    return model"
   ]
  },
  {
   "cell_type": "code",
   "execution_count": 19,
   "metadata": {},
   "outputs": [
    {
     "name": "stderr",
     "output_type": "stream",
     "text": [
      "/usr/local/lib/python3.7/dist-packages/ipykernel_launcher.py:7: UserWarning: Update your `Dense` call to the Keras 2 API: `Dense(2048, kernel_initializer=\"glorot_uniform\")`\n",
      "  import sys\n",
      "/usr/local/lib/python3.7/dist-packages/ipykernel_launcher.py:16: UserWarning: Update your `Dense` call to the Keras 2 API: `Dense(2, kernel_initializer=\"glorot_uniform\")`\n",
      "  app.launch_new_instance()\n"
     ]
    },
    {
     "name": "stdout",
     "output_type": "stream",
     "text": [
      "Epoch 1/12\n",
      "2270/2270 [==============================] - 6s 3ms/step - loss: 0.5757 - accuracy: 0.6859\n",
      "Epoch 2/12\n",
      "2270/2270 [==============================] - 6s 2ms/step - loss: 0.3875 - accuracy: 0.8242\n",
      "Epoch 3/12\n",
      "2270/2270 [==============================] - 5s 2ms/step - loss: 0.2162 - accuracy: 0.9159\n",
      "Epoch 4/12\n",
      "2270/2270 [==============================] - 6s 2ms/step - loss: 0.0914 - accuracy: 0.9718\n",
      "Epoch 5/12\n",
      "2270/2270 [==============================] - 6s 2ms/step - loss: 0.0330 - accuracy: 0.9903\n",
      "Epoch 6/12\n",
      "2270/2270 [==============================] - 5s 2ms/step - loss: 0.0112 - accuracy: 0.9987\n",
      "Epoch 7/12\n",
      "2270/2270 [==============================] - 6s 2ms/step - loss: 0.0147 - accuracy: 0.9974\n",
      "Epoch 8/12\n",
      "2270/2270 [==============================] - 6s 2ms/step - loss: 0.0305 - accuracy: 0.9912\n",
      "Epoch 9/12\n",
      "2270/2270 [==============================] - 6s 2ms/step - loss: 0.0586 - accuracy: 0.9828\n",
      "Epoch 10/12\n",
      "2270/2270 [==============================] - 6s 2ms/step - loss: 0.0384 - accuracy: 0.9885\n",
      "Epoch 11/12\n",
      "2270/2270 [==============================] - 6s 2ms/step - loss: 0.0237 - accuracy: 0.9956\n",
      "Epoch 12/12\n",
      "2270/2270 [==============================] - 6s 2ms/step - loss: 0.0033 - accuracy: 0.9991\n"
     ]
    },
    {
     "data": {
      "text/plain": [
       "<keras.callbacks.callbacks.History at 0x7f6c3c45d898>"
      ]
     },
     "execution_count": 19,
     "metadata": {},
     "output_type": "execute_result"
    }
   ],
   "source": [
    "\n",
    "#set early stopping monitor so the model stops training when it won't improve anymore\n",
    "early_stopping_monitor = EarlyStopping(patience=3)\n",
    "#train model\n",
    "# model.fit(train_X, train_y, validation_split=0.2, epochs=30)\n",
    "\n",
    "\n",
    "\n",
    "start=time()\n",
    "model = KerasClassifier(build_fn=create_model)\n",
    "\n",
    "model.fit(X_train, Y_train, validation_split=0.0, epochs=12,callbacks=[early_stopping_monitor] )\n",
    "# # return\n",
    "# optimizers = ['rmsprop', 'adam']\n",
    "# init = ['glorot_uniform', 'normal', 'uniform']\n",
    "# optimizers = ['rmsprop', 'adam']\n",
    "# init = ['glorot_uniform', 'normal', 'uniform']\n",
    "# epochs = np.array([8])\n",
    "# batches = np.array([5, 10, 20])\n",
    "# param_grid = dict(optimizer=optimizers, nb_epoch=epochs, batch_size=batches, init=init)\n",
    "# grid = GridSearchCV(estimator=model, param_grid=param_grid)\n",
    "# grid_result = grid.fit(X_train, Y_train)\n",
    "# print(\"Best: %f using %s\" % (grid_result.best_score_, grid_result.best_params_))\n",
    "# for params, mean_score, scores in grid_result.grid_scores_:\n",
    "#     print(\"%f (%f) with: %r\" % (scores.mean(), scores.std(), params))\n",
    "# print(\"total time:\",time()-start)"
   ]
  },
  {
   "cell_type": "code",
   "execution_count": 20,
   "metadata": {},
   "outputs": [],
   "source": [
    "# model=grid_result\n",
    "prediction=model.predict(X_test)\n",
    "\n",
    "# print(len(prediction))\n",
    "# print(prediction)\n",
    "\n"
   ]
  },
  {
   "cell_type": "code",
   "execution_count": 23,
   "metadata": {},
   "outputs": [],
   "source": [
    "prediction=pd.DataFrame(data=prediction)\n",
    "prediction=prediction.replace(0,-1)\n",
    "new_dataframe=pd.DataFrame(columns=['ID','Label'])\n",
    "new_dataframe['ID']=data_test['ID']\n",
    "new_dataframe['Label']=prediction\n",
    "# print(new_dataframe)\n",
    "new_dataframe=new_dataframe.set_index('ID')"
   ]
  },
  {
   "cell_type": "code",
   "execution_count": 24,
   "metadata": {},
   "outputs": [],
   "source": [
    "new_dataframe.to_csv('output.dat')"
   ]
  },
  {
   "cell_type": "code",
   "execution_count": null,
   "metadata": {},
   "outputs": [],
   "source": []
  }
 ],
 "metadata": {
  "kernelspec": {
   "display_name": "Python 3",
   "language": "python",
   "name": "python3"
  },
  "language_info": {
   "codemirror_mode": {
    "name": "ipython",
    "version": 3
   },
   "file_extension": ".py",
   "mimetype": "text/x-python",
   "name": "python",
   "nbconvert_exporter": "python",
   "pygments_lexer": "ipython3",
   "version": "3.7.3"
  }
 },
 "nbformat": 4,
 "nbformat_minor": 4
}
